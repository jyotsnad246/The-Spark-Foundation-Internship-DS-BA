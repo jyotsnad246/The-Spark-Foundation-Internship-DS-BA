{
  "nbformat": 4,
  "nbformat_minor": 0,
  "metadata": {
    "colab": {
      "name": "GRIP Task1-Jyotsna.ipynb",
      "provenance": [],
      "collapsed_sections": []
    },
    "kernelspec": {
      "name": "python3",
      "display_name": "Python 3"
    },
    "language_info": {
      "name": "python"
    }
  },
  "cells": [
    {
      "cell_type": "markdown",
      "source": [
        "#AUTHOR : Jyotsna\n",
        "##GRIP @ The Sparks Foundation (Data Science & Business Analytics)\n",
        "##Technical TASK 1 :- Prediction using Supervised ML\n",
        "###In this task, we will predict the percentage of marks that a student is expected to score based upon the number of hours they studied. This is a simple linear regression task as it involves just two variables."
      ],
      "metadata": {
        "id": "cpdSb09xmLyI"
      }
    },
    {
      "cell_type": "markdown",
      "source": [
        "#Importing Technical Stack\n"
      ],
      "metadata": {
        "id": "mINWgFwPoJT1"
      }
    },
    {
      "cell_type": "code",
      "execution_count": 46,
      "metadata": {
        "id": "e1oy2y1fl8bI"
      },
      "outputs": [],
      "source": [
        "n# Importing all libraries required in this notebook\n",
        "import pandas as pd\n",
        "import numpy as np\n",
        "import seaborn as sns\n",
        "import sklearn\n",
        "import matplotlib.pyplot as plt"
        "%matplotlib inline"
      ]
    },
    {
      "cell_type": "markdown",
      "source": [
        "#Reading the data from online source"
      ],
      "metadata": {
        "id": "L3fn_XXVoi4P"
      }
    },
    {
      "cell_type": "code",
      "source": [
        "# Reading data from remote link\n",
        "url = \"http://bit.ly/w-data\"\n",
        "\n",
        "# df is a dataframe that will store all the data which will be imported  \n",
        "df = pd.read_csv(url)\n",
        "print('Data Import Successful')\n",
        "print('Shape of the given dataset',df.shape)\n",
        "df.head(10)"
      ],
      "metadata": {
        "colab": {
          "base_uri": "https://localhost:8080/",
          "height": 399
        },
        "id": "Ps5WEL-ZoufU",
        "outputId": "f85fc60f-29b9-4797-c29b-dbf2be6caffe"
      },
      "execution_count": 47,
      "outputs": [
        {
          "output_type": "stream",
          "name": "stdout",
          "text": [
            "Data Import Successful\n",
            "Shape of the given dataset (25, 2)\n"
          ]
        },
        {
          "output_type": "execute_result",
          "data": {
            "text/html": [
              "\n",
              "  <div id=\"df-3bc72c3e-8863-47ad-98b2-eb45a8742011\">\n",
              "    <div class=\"colab-df-container\">\n",
              "      <div>\n",
              "<style scoped>\n",
              "    .dataframe tbody tr th:only-of-type {\n",
              "        vertical-align: middle;\n",
              "    }\n",
              "\n",
              "    .dataframe tbody tr th {\n",
              "        vertical-align: top;\n",
              "    }\n",
              "\n",
              "    .dataframe thead th {\n",
              "        text-align: right;\n",
              "    }\n",
              "</style>\n",
              "<table border=\"1\" class=\"dataframe\">\n",
              "  <thead>\n",
              "    <tr style=\"text-align: right;\">\n",
              "      <th></th>\n",
              "      <th>Hours</th>\n",
              "      <th>Scores</th>\n",
              "    </tr>\n",
              "  </thead>\n",
              "  <tbody>\n",
              "    <tr>\n",
              "      <th>0</th>\n",
              "      <td>2.5</td>\n",
              "      <td>21</td>\n",
              "    </tr>\n",
              "    <tr>\n",
              "      <th>1</th>\n",
              "      <td>5.1</td>\n",
              "      <td>47</td>\n",
              "    </tr>\n",
              "    <tr>\n",
              "      <th>2</th>\n",
              "      <td>3.2</td>\n",
              "      <td>27</td>\n",
              "    </tr>\n",
              "    <tr>\n",
              "      <th>3</th>\n",
              "      <td>8.5</td>\n",
              "      <td>75</td>\n",
              "    </tr>\n",
              "    <tr>\n",
              "      <th>4</th>\n",
              "      <td>3.5</td>\n",
              "      <td>30</td>\n",
              "    </tr>\n",
              "    <tr>\n",
              "      <th>5</th>\n",
              "      <td>1.5</td>\n",
              "      <td>20</td>\n",
              "    </tr>\n",
              "    <tr>\n",
              "      <th>6</th>\n",
              "      <td>9.2</td>\n",
              "      <td>88</td>\n",
              "    </tr>\n",
              "    <tr>\n",
              "      <th>7</th>\n",
              "      <td>5.5</td>\n",
              "      <td>60</td>\n",
              "    </tr>\n",
              "    <tr>\n",
              "      <th>8</th>\n",
              "      <td>8.3</td>\n",
              "      <td>81</td>\n",
              "    </tr>\n",
              "    <tr>\n",
              "      <th>9</th>\n",
              "      <td>2.7</td>\n",
              "      <td>25</td>\n",
              "    </tr>\n",
              "  </tbody>\n",
              "</table>\n",
              "</div>\n",
              "      <button class=\"colab-df-convert\" onclick=\"convertToInteractive('df-3bc72c3e-8863-47ad-98b2-eb45a8742011')\"\n",
              "              title=\"Convert this dataframe to an interactive table.\"\n",
              "              style=\"display:none;\">\n",
              "        \n",
              "  <svg xmlns=\"http://www.w3.org/2000/svg\" height=\"24px\"viewBox=\"0 0 24 24\"\n",
              "       width=\"24px\">\n",
              "    <path d=\"M0 0h24v24H0V0z\" fill=\"none\"/>\n",
              "    <path d=\"M18.56 5.44l.94 2.06.94-2.06 2.06-.94-2.06-.94-.94-2.06-.94 2.06-2.06.94zm-11 1L8.5 8.5l.94-2.06 2.06-.94-2.06-.94L8.5 2.5l-.94 2.06-2.06.94zm10 10l.94 2.06.94-2.06 2.06-.94-2.06-.94-.94-2.06-.94 2.06-2.06.94z\"/><path d=\"M17.41 7.96l-1.37-1.37c-.4-.4-.92-.59-1.43-.59-.52 0-1.04.2-1.43.59L10.3 9.45l-7.72 7.72c-.78.78-.78 2.05 0 2.83L4 21.41c.39.39.9.59 1.41.59.51 0 1.02-.2 1.41-.59l7.78-7.78 2.81-2.81c.8-.78.8-2.07 0-2.86zM5.41 20L4 18.59l7.72-7.72 1.47 1.35L5.41 20z\"/>\n",
              "  </svg>\n",
              "      </button>\n",
              "      \n",
              "  <style>\n",
              "    .colab-df-container {\n",
              "      display:flex;\n",
              "      flex-wrap:wrap;\n",
              "      gap: 12px;\n",
              "    }\n",
              "\n",
              "    .colab-df-convert {\n",
              "      background-color: #E8F0FE;\n",
              "      border: none;\n",
              "      border-radius: 50%;\n",
              "      cursor: pointer;\n",
              "      display: none;\n",
              "      fill: #1967D2;\n",
              "      height: 32px;\n",
              "      padding: 0 0 0 0;\n",
              "      width: 32px;\n",
              "    }\n",
              "\n",
              "    .colab-df-convert:hover {\n",
              "      background-color: #E2EBFA;\n",
              "      box-shadow: 0px 1px 2px rgba(60, 64, 67, 0.3), 0px 1px 3px 1px rgba(60, 64, 67, 0.15);\n",
              "      fill: #174EA6;\n",
              "    }\n",
              "\n",
              "    [theme=dark] .colab-df-convert {\n",
              "      background-color: #3B4455;\n",
              "      fill: #D2E3FC;\n",
              "    }\n",
              "\n",
              "    [theme=dark] .colab-df-convert:hover {\n",
              "      background-color: #434B5C;\n",
              "      box-shadow: 0px 1px 3px 1px rgba(0, 0, 0, 0.15);\n",
              "      filter: drop-shadow(0px 1px 2px rgba(0, 0, 0, 0.3));\n",
              "      fill: #FFFFFF;\n",
              "    }\n",
              "  </style>\n",
              "\n",
              "      <script>\n",
              "        const buttonEl =\n",
              "          document.querySelector('#df-3bc72c3e-8863-47ad-98b2-eb45a8742011 button.colab-df-convert');\n",
              "        buttonEl.style.display =\n",
              "          google.colab.kernel.accessAllowed ? 'block' : 'none';\n",
              "\n",
              "        async function convertToInteractive(key) {\n",
              "          const element = document.querySelector('#df-3bc72c3e-8863-47ad-98b2-eb45a8742011');\n",
              "          const dataTable =\n",
              "            await google.colab.kernel.invokeFunction('convertToInteractive',\n",
              "                                                     [key], {});\n",
              "          if (!dataTable) return;\n",
              "\n",
              "          const docLinkHtml = 'Like what you see? Visit the ' +\n",
              "            '<a target=\"_blank\" href=https://colab.research.google.com/notebooks/data_table.ipynb>data table notebook</a>'\n",
              "            + ' to learn more about interactive tables.';\n",
              "          element.innerHTML = '';\n",
              "          dataTable['output_type'] = 'display_data';\n",
              "          await google.colab.output.renderOutput(dataTable, element);\n",
              "          const docLink = document.createElement('div');\n",
              "          docLink.innerHTML = docLinkHtml;\n",
              "          element.appendChild(docLink);\n",
              "        }\n",
              "      </script>\n",
              "    </div>\n",
              "  </div>\n",
              "  "
            ],
            "text/plain": [
              "   Hours  Scores\n",
              "0    2.5      21\n",
              "1    5.1      47\n",
              "2    3.2      27\n",
              "3    8.5      75\n",
              "4    3.5      30\n",
              "5    1.5      20\n",
              "6    9.2      88\n",
              "7    5.5      60\n",
              "8    8.3      81\n",
              "9    2.7      25"
            ]
          },
          "metadata": {},
          "execution_count": 47
        }
      ]
    },
    {
      "cell_type": "code",
      "source": [
        "# Concise summary of the dataframe 'df'\n",
        "df.info()"
      ],
      "metadata": {
        "colab": {
          "base_uri": "https://localhost:8080/"
        },
        "id": "gZDnNYETp49r",
        "outputId": "4da958ab-e864-4e1f-ddb7-95fb3465a513"
      },
      "execution_count": 48,
      "outputs": [
        {
          "output_type": "stream",
          "name": "stdout",
          "text": [
            "<class 'pandas.core.frame.DataFrame'>\n",
            "RangeIndex: 25 entries, 0 to 24\n",
            "Data columns (total 2 columns):\n",
            " #   Column  Non-Null Count  Dtype  \n",
            "---  ------  --------------  -----  \n",
            " 0   Hours   25 non-null     float64\n",
            " 1   Scores  25 non-null     int64  \n",
            "dtypes: float64(1), int64(1)\n",
            "memory usage: 528.0 bytes\n"
          ]
        }
      ]
    },
    {
      "cell_type": "code",
      "source": [
        "# Statistical summary of data frame 'df'\n",
        "df.describe()"
      ],
      "metadata": {
        "colab": {
          "base_uri": "https://localhost:8080/",
          "height": 300
        },
        "id": "fIezxokIqbVf",
        "outputId": "2cabed44-c641-4a86-81e0-3d18d72bf8e3"
      },
      "execution_count": 49,
      "outputs": [
        {
          "output_type": "execute_result",
          "data": {
            "text/html": [
              "\n",
              "  <div id=\"df-324b1e20-e29a-45ad-984a-a57edf3c0f17\">\n",
              "    <div class=\"colab-df-container\">\n",
              "      <div>\n",
              "<style scoped>\n",
              "    .dataframe tbody tr th:only-of-type {\n",
              "        vertical-align: middle;\n",
              "    }\n",
              "\n",
              "    .dataframe tbody tr th {\n",
              "        vertical-align: top;\n",
              "    }\n",
              "\n",
              "    .dataframe thead th {\n",
              "        text-align: right;\n",
              "    }\n",
              "</style>\n",
              "<table border=\"1\" class=\"dataframe\">\n",
              "  <thead>\n",
              "    <tr style=\"text-align: right;\">\n",
              "      <th></th>\n",
              "      <th>Hours</th>\n",
              "      <th>Scores</th>\n",
              "    </tr>\n",
              "  </thead>\n",
              "  <tbody>\n",
              "    <tr>\n",
              "      <th>count</th>\n",
              "      <td>25.000000</td>\n",
              "      <td>25.000000</td>\n",
              "    </tr>\n",
              "    <tr>\n",
              "      <th>mean</th>\n",
              "      <td>5.012000</td>\n",
              "      <td>51.480000</td>\n",
              "    </tr>\n",
              "    <tr>\n",
              "      <th>std</th>\n",
              "      <td>2.525094</td>\n",
              "      <td>25.286887</td>\n",
              "    </tr>\n",
              "    <tr>\n",
              "      <th>min</th>\n",
              "      <td>1.100000</td>\n",
              "      <td>17.000000</td>\n",
              "    </tr>\n",
              "    <tr>\n",
              "      <th>25%</th>\n",
              "      <td>2.700000</td>\n",
              "      <td>30.000000</td>\n",
              "    </tr>\n",
              "    <tr>\n",
              "      <th>50%</th>\n",
              "      <td>4.800000</td>\n",
              "      <td>47.000000</td>\n",
              "    </tr>\n",
              "    <tr>\n",
              "      <th>75%</th>\n",
              "      <td>7.400000</td>\n",
              "      <td>75.000000</td>\n",
              "    </tr>\n",
              "    <tr>\n",
              "      <th>max</th>\n",
              "      <td>9.200000</td>\n",
              "      <td>95.000000</td>\n",
              "    </tr>\n",
              "  </tbody>\n",
              "</table>\n",
              "</div>\n",
              "      <button class=\"colab-df-convert\" onclick=\"convertToInteractive('df-324b1e20-e29a-45ad-984a-a57edf3c0f17')\"\n",
              "              title=\"Convert this dataframe to an interactive table.\"\n",
              "              style=\"display:none;\">\n",
              "        \n",
              "  <svg xmlns=\"http://www.w3.org/2000/svg\" height=\"24px\"viewBox=\"0 0 24 24\"\n",
              "       width=\"24px\">\n",
              "    <path d=\"M0 0h24v24H0V0z\" fill=\"none\"/>\n",
              "    <path d=\"M18.56 5.44l.94 2.06.94-2.06 2.06-.94-2.06-.94-.94-2.06-.94 2.06-2.06.94zm-11 1L8.5 8.5l.94-2.06 2.06-.94-2.06-.94L8.5 2.5l-.94 2.06-2.06.94zm10 10l.94 2.06.94-2.06 2.06-.94-2.06-.94-.94-2.06-.94 2.06-2.06.94z\"/><path d=\"M17.41 7.96l-1.37-1.37c-.4-.4-.92-.59-1.43-.59-.52 0-1.04.2-1.43.59L10.3 9.45l-7.72 7.72c-.78.78-.78 2.05 0 2.83L4 21.41c.39.39.9.59 1.41.59.51 0 1.02-.2 1.41-.59l7.78-7.78 2.81-2.81c.8-.78.8-2.07 0-2.86zM5.41 20L4 18.59l7.72-7.72 1.47 1.35L5.41 20z\"/>\n",
              "  </svg>\n",
              "      </button>\n",
              "      \n",
              "  <style>\n",
              "    .colab-df-container {\n",
              "      display:flex;\n",
              "      flex-wrap:wrap;\n",
              "      gap: 12px;\n",
              "    }\n",
              "\n",
              "    .colab-df-convert {\n",
              "      background-color: #E8F0FE;\n",
              "      border: none;\n",
              "      border-radius: 50%;\n",
              "      cursor: pointer;\n",
              "      display: none;\n",
              "      fill: #1967D2;\n",
              "      height: 32px;\n",
              "      padding: 0 0 0 0;\n",
              "      width: 32px;\n",
              "    }\n",
              "\n",
              "    .colab-df-convert:hover {\n",
              "      background-color: #E2EBFA;\n",
              "      box-shadow: 0px 1px 2px rgba(60, 64, 67, 0.3), 0px 1px 3px 1px rgba(60, 64, 67, 0.15);\n",
              "      fill: #174EA6;\n",
              "    }\n",
              "\n",
              "    [theme=dark] .colab-df-convert {\n",
              "      background-color: #3B4455;\n",
              "      fill: #D2E3FC;\n",
              "    }\n",
              "\n",
              "    [theme=dark] .colab-df-convert:hover {\n",
              "      background-color: #434B5C;\n",
              "      box-shadow: 0px 1px 3px 1px rgba(0, 0, 0, 0.15);\n",
              "      filter: drop-shadow(0px 1px 2px rgba(0, 0, 0, 0.3));\n",
              "      fill: #FFFFFF;\n",
              "    }\n",
              "  </style>\n",
              "\n",
              "      <script>\n",
              "        const buttonEl =\n",
              "          document.querySelector('#df-324b1e20-e29a-45ad-984a-a57edf3c0f17 button.colab-df-convert');\n",
              "        buttonEl.style.display =\n",
              "          google.colab.kernel.accessAllowed ? 'block' : 'none';\n",
              "\n",
              "        async function convertToInteractive(key) {\n",
              "          const element = document.querySelector('#df-324b1e20-e29a-45ad-984a-a57edf3c0f17');\n",
              "          const dataTable =\n",
              "            await google.colab.kernel.invokeFunction('convertToInteractive',\n",
              "                                                     [key], {});\n",
              "          if (!dataTable) return;\n",
              "\n",
              "          const docLinkHtml = 'Like what you see? Visit the ' +\n",
              "            '<a target=\"_blank\" href=https://colab.research.google.com/notebooks/data_table.ipynb>data table notebook</a>'\n",
              "            + ' to learn more about interactive tables.';\n",
              "          element.innerHTML = '';\n",
              "          dataTable['output_type'] = 'display_data';\n",
              "          await google.colab.output.renderOutput(dataTable, element);\n",
              "          const docLink = document.createElement('div');\n",
              "          docLink.innerHTML = docLinkHtml;\n",
              "          element.appendChild(docLink);\n",
              "        }\n",
              "      </script>\n",
              "    </div>\n",
              "  </div>\n",
              "  "
            ],
            "text/plain": [
              "           Hours     Scores\n",
              "count  25.000000  25.000000\n",
              "mean    5.012000  51.480000\n",
              "std     2.525094  25.286887\n",
              "min     1.100000  17.000000\n",
              "25%     2.700000  30.000000\n",
              "50%     4.800000  47.000000\n",
              "75%     7.400000  75.000000\n",
              "max     9.200000  95.000000"
            ]
          },
          "metadata": {},
          "execution_count": 49
        }
      ]
    },
    {
      "cell_type": "markdown",
      "source": [
        "#Visualization of the given data"
      ],
      "metadata": {
        "id": "3RuWoqbkrWH5"
      }
    },
    {
      "cell_type": "markdown",
      "source": [
        "Plotting our data points on 2-D graph to eyeball our dataset to see if we can manually find any relationship between the data. "
      ],
      "metadata": {
        "id": "32hmFaQoFTfN"
      }
    },
    {
      "cell_type": "code",
      "source": [
        "# Plotting the distribution of scores\n",
        "plt.scatter(df.Hours,df.Scores)\n",
        "plt.title('Scatterplot between Hours Studied vs Percentage Scored')\n",
        "plt.xlabel('Hours Studied')\n",
        "plt.ylabel('Percentage Scored')\n",
        "plt.show()"
      ],
      "metadata": {
        "id": "0Ie98EUhrsii",
        "colab": {
          "base_uri": "https://localhost:8080/",
          "height": 295
        },
        "outputId": "5e6b04bd-cc73-4215-aacc-28418c8fb8a1"
      },
      "execution_count": 50,
      "outputs": [
        {
          "output_type": "display_data",
          "data": {
            "image/png": "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\n",
            "text/plain": [
              "<Figure size 432x288 with 1 Axes>"
            ]
          },
          "metadata": {
            "needs_background": "light"
          }
        }
      ]
    },
    {
      "cell_type": "code",
      "source": [
        "df.plot(x = 'Hours',y = 'Scores',linestyle = '--',marker = 'o',markersize = '9',markerfacecolor = 'red', figsize=(8,6))\n",
        "plt.xlabel('Hours Studied')\n",
        "plt.ylabel('Percentage Scored')"
      ],
      "metadata": {
        "colab": {
          "base_uri": "https://localhost:8080/",
          "height": 406
        },
        "id": "Z8UBmxOP_hLj",
        "outputId": "57ffff80-f2f2-4cf5-a54d-43dfae93e911"
      },
      "execution_count": 51,
      "outputs": [
        {
          "output_type": "execute_result",
          "data": {
            "text/plain": [
              "Text(0, 0.5, 'Percentage Scored')"
            ]
          },
          "metadata": {},
          "execution_count": 51
        },
        {
          "output_type": "display_data",
          "data": {
            "image/png": "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\n",
            "text/plain": [
              "<Figure size 576x432 with 1 Axes>"
            ]
          },
          "metadata": {
            "needs_background": "light"
          }
        }
      ]
    },
    {
      "cell_type": "code",
      "source": [
        "# Correlation plot - Heatmap\n",
        "plt.title('Heatmap')\n",
        "correlation_matrix = df.corr()\n",
        "sns.heatmap(data=correlation_matrix, annot=True)\n",
        "plt.show()"
      ],
      "metadata": {
        "colab": {
          "base_uri": "https://localhost:8080/",
          "height": 281
        },
        "id": "n3Icjr9WOgkI",
        "outputId": "01e8ff1e-8c32-42d9-ae8e-ab34d41a7cd7"
      },
      "execution_count": 52,
      "outputs": [
        {
          "output_type": "display_data",
          "data": {
            "image/png": "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\n",
            "text/plain": [
              "<Figure size 432x288 with 2 Axes>"
            ]
          },
          "metadata": {
            "needs_background": "light"
          }
        }
      ]
    },
    {
      "cell_type": "markdown",
      "source": [
        "So from the plots we can safely assume a **positive linear relation** between the number of hours studied and percentage 0f score.\n",
        "\n"
      ],
      "metadata": {
        "id": "WLPQYPXqDqw-"
      }
    },
    {
      "cell_type": "markdown",
      "source": [
        "#Preparing the Data"
      ],
      "metadata": {
        "id": "Szk7pWksE7L2"
      }
    },
    {
      "cell_type": "markdown",
      "source": [
        "Dividing the data into \"attributes\" (inputs) and \"labels\" (outputs)"
      ],
      "metadata": {
        "id": "Ujx4jixQFkeS"
      }
    },
    {
      "cell_type": "code",
      "source": [
        "x = df.iloc[:, :-1].values\n",
        "y = df.iloc[:, 1].values"
      ],
      "metadata": {
        "id": "VBta333J_s_b"
      },
      "execution_count": 53,
      "outputs": []
    },
    {
      "cell_type": "markdown",
      "source": [
        "# Spliting this data into training and test sets"
      ],
      "metadata": {
        "id": "g-n_vYwd9Zc8"
      }
    },
    {
      "cell_type": "markdown",
      "source": [
        "Here, we split the data to train and test our model."
      ],
      "metadata": {
        "id": "7h_um8xB9qWV"
      }
    },
    {
      "cell_type": "code",
      "source": [
        "from sklearn.model_selection import train_test_split\n",
        "x_train, x_test, y_train, y_test = train_test_split( x, y, test_size = 0.2, random_state = 0)"
      ],
      "metadata": {
        "id": "cS1M8POL8wGB"
      },
      "execution_count": 54,
      "outputs": []
    },
    {
      "cell_type": "markdown",
      "source": [
        "#Training the Model"
      ],
      "metadata": {
        "id": "uwxDRrpz_C_b"
      }
    },
    {
      "cell_type": "code",
      "source": [
        "from sklearn.linear_model import LinearRegression\n",
        "\n",
        "# regr is the linear regression object\n",
        "regr = LinearRegression()\n",
        "regr.fit(x_train, y_train) \n",
        "\n",
        "print('Training Complete.')"
      ],
      "metadata": {
        "colab": {
          "base_uri": "https://localhost:8080/"
        },
        "id": "z3gBk-bE-xgH",
        "outputId": "03f6a9c4-2489-4e69-cfcf-383d75dc192d"
      },
      "execution_count": 55,
      "outputs": [
        {
          "output_type": "stream",
          "name": "stdout",
          "text": [
            "Training Complete.\n"
          ]
        }
      ]
    },
    {
      "cell_type": "markdown",
      "source": [
        "# Ploting the Line Of Regression"
      ],
      "metadata": {
        "id": "NFfgDvjGBR-f"
      }
    },
    {
      "cell_type": "markdown",
      "source": [
        "Since the model is trained now, we'll plot the line of regression"
      ],
      "metadata": {
        "id": "U5q8JzrUBqfa"
      }
    },
    {
      "cell_type": "code",
      "source": [
        "# Plotting the regression line\n",
        "line = regr.coef_ * x + regr.intercept_\n",
        "\n",
        "# Plotting for Test Data\n",
        "plt.title('Line Of Regression')\n",
        "plt.scatter(x, y)\n",
        "plt.plot (x, line, color = 'Red')\n",
        "plt.show()"
      ],
      "metadata": {
        "colab": {
          "base_uri": "https://localhost:8080/",
          "height": 281
        },
        "id": "xxEzkXMiBH5x",
        "outputId": "ccbd979e-140a-427c-8a54-171ff5a2664e"
      },
      "execution_count": 56,
      "outputs": [
        {
          "output_type": "display_data",
          "data": {
            "image/png": "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\n",
            "text/plain": [
              "<Figure size 432x288 with 1 Axes>"
            ]
          },
          "metadata": {
            "needs_background": "light"
          }
        }
      ]
    },
    {
      "cell_type": "markdown",
      "source": [
        "# Making Predictions"
      ],
      "metadata": {
        "id": "Z1avYFmPEwVi"
      }
    },
    {
      "cell_type": "markdown",
      "source": [
        "Now that the model is trained, it's time to test the model by making some predictions."
      ],
      "metadata": {
        "id": "B5FhHohVE3Cu"
      }
    },
    {
      "cell_type": "code",
      "source": [
        "# Testing data - In Hours\n",
        "print(x_test)"
      ],
      "metadata": {
        "colab": {
          "base_uri": "https://localhost:8080/"
        },
        "id": "gMpczde0DOTO",
        "outputId": "0c8846ac-e8b5-4ee4-ec88-43cabd3ee310"
      },
      "execution_count": 57,
      "outputs": [
        {
          "output_type": "stream",
          "name": "stdout",
          "text": [
            "[[1.5]\n",
            " [3.2]\n",
            " [7.4]\n",
            " [2.5]\n",
            " [5.9]]\n"
          ]
        }
      ]
    },
    {
      "cell_type": "code",
      "source": [
        "# Model Prediction\n",
        "y_pred = regr.predict(x_test)"
      ],
      "metadata": {
        "id": "8jg-MuHDFU8d"
      },
      "execution_count": 58,
      "outputs": []
    },
    {
      "cell_type": "code",
      "source": [
        "# Comparing Actual vs Predicted \n",
        "data = pd.DataFrame({'Actual': y_test, 'Predicted': y_pred})  \n",
        "data"
      ],
      "metadata": {
        "colab": {
          "base_uri": "https://localhost:8080/",
          "height": 206
        },
        "id": "m0ZQAUsVFp3s",
        "outputId": "6b5f0138-7432-420e-f823-cb5a475fada5"
      },
      "execution_count": 59,
      "outputs": [
        {
          "output_type": "execute_result",
          "data": {
            "text/html": [
              "\n",
              "  <div id=\"df-ae1fb787-fcb2-4207-80c0-fb126b2b6368\">\n",
              "    <div class=\"colab-df-container\">\n",
              "      <div>\n",
              "<style scoped>\n",
              "    .dataframe tbody tr th:only-of-type {\n",
              "        vertical-align: middle;\n",
              "    }\n",
              "\n",
              "    .dataframe tbody tr th {\n",
              "        vertical-align: top;\n",
              "    }\n",
              "\n",
              "    .dataframe thead th {\n",
              "        text-align: right;\n",
              "    }\n",
              "</style>\n",
              "<table border=\"1\" class=\"dataframe\">\n",
              "  <thead>\n",
              "    <tr style=\"text-align: right;\">\n",
              "      <th></th>\n",
              "      <th>Actual</th>\n",
              "      <th>Predicted</th>\n",
              "    </tr>\n",
              "  </thead>\n",
              "  <tbody>\n",
              "    <tr>\n",
              "      <th>0</th>\n",
              "      <td>20</td>\n",
              "      <td>16.884145</td>\n",
              "    </tr>\n",
              "    <tr>\n",
              "      <th>1</th>\n",
              "      <td>27</td>\n",
              "      <td>33.732261</td>\n",
              "    </tr>\n",
              "    <tr>\n",
              "      <th>2</th>\n",
              "      <td>69</td>\n",
              "      <td>75.357018</td>\n",
              "    </tr>\n",
              "    <tr>\n",
              "      <th>3</th>\n",
              "      <td>30</td>\n",
              "      <td>26.794801</td>\n",
              "    </tr>\n",
              "    <tr>\n",
              "      <th>4</th>\n",
              "      <td>62</td>\n",
              "      <td>60.491033</td>\n",
              "    </tr>\n",
              "  </tbody>\n",
              "</table>\n",
              "</div>\n",
              "      <button class=\"colab-df-convert\" onclick=\"convertToInteractive('df-ae1fb787-fcb2-4207-80c0-fb126b2b6368')\"\n",
              "              title=\"Convert this dataframe to an interactive table.\"\n",
              "              style=\"display:none;\">\n",
              "        \n",
              "  <svg xmlns=\"http://www.w3.org/2000/svg\" height=\"24px\"viewBox=\"0 0 24 24\"\n",
              "       width=\"24px\">\n",
              "    <path d=\"M0 0h24v24H0V0z\" fill=\"none\"/>\n",
              "    <path d=\"M18.56 5.44l.94 2.06.94-2.06 2.06-.94-2.06-.94-.94-2.06-.94 2.06-2.06.94zm-11 1L8.5 8.5l.94-2.06 2.06-.94-2.06-.94L8.5 2.5l-.94 2.06-2.06.94zm10 10l.94 2.06.94-2.06 2.06-.94-2.06-.94-.94-2.06-.94 2.06-2.06.94z\"/><path d=\"M17.41 7.96l-1.37-1.37c-.4-.4-.92-.59-1.43-.59-.52 0-1.04.2-1.43.59L10.3 9.45l-7.72 7.72c-.78.78-.78 2.05 0 2.83L4 21.41c.39.39.9.59 1.41.59.51 0 1.02-.2 1.41-.59l7.78-7.78 2.81-2.81c.8-.78.8-2.07 0-2.86zM5.41 20L4 18.59l7.72-7.72 1.47 1.35L5.41 20z\"/>\n",
              "  </svg>\n",
              "      </button>\n",
              "      \n",
              "  <style>\n",
              "    .colab-df-container {\n",
              "      display:flex;\n",
              "      flex-wrap:wrap;\n",
              "      gap: 12px;\n",
              "    }\n",
              "\n",
              "    .colab-df-convert {\n",
              "      background-color: #E8F0FE;\n",
              "      border: none;\n",
              "      border-radius: 50%;\n",
              "      cursor: pointer;\n",
              "      display: none;\n",
              "      fill: #1967D2;\n",
              "      height: 32px;\n",
              "      padding: 0 0 0 0;\n",
              "      width: 32px;\n",
              "    }\n",
              "\n",
              "    .colab-df-convert:hover {\n",
              "      background-color: #E2EBFA;\n",
              "      box-shadow: 0px 1px 2px rgba(60, 64, 67, 0.3), 0px 1px 3px 1px rgba(60, 64, 67, 0.15);\n",
              "      fill: #174EA6;\n",
              "    }\n",
              "\n",
              "    [theme=dark] .colab-df-convert {\n",
              "      background-color: #3B4455;\n",
              "      fill: #D2E3FC;\n",
              "    }\n",
              "\n",
              "    [theme=dark] .colab-df-convert:hover {\n",
              "      background-color: #434B5C;\n",
              "      box-shadow: 0px 1px 3px 1px rgba(0, 0, 0, 0.15);\n",
              "      filter: drop-shadow(0px 1px 2px rgba(0, 0, 0, 0.3));\n",
              "      fill: #FFFFFF;\n",
              "    }\n",
              "  </style>\n",
              "\n",
              "      <script>\n",
              "        const buttonEl =\n",
              "          document.querySelector('#df-ae1fb787-fcb2-4207-80c0-fb126b2b6368 button.colab-df-convert');\n",
              "        buttonEl.style.display =\n",
              "          google.colab.kernel.accessAllowed ? 'block' : 'none';\n",
              "\n",
              "        async function convertToInteractive(key) {\n",
              "          const element = document.querySelector('#df-ae1fb787-fcb2-4207-80c0-fb126b2b6368');\n",
              "          const dataTable =\n",
              "            await google.colab.kernel.invokeFunction('convertToInteractive',\n",
              "                                                     [key], {});\n",
              "          if (!dataTable) return;\n",
              "\n",
              "          const docLinkHtml = 'Like what you see? Visit the ' +\n",
              "            '<a target=\"_blank\" href=https://colab.research.google.com/notebooks/data_table.ipynb>data table notebook</a>'\n",
              "            + ' to learn more about interactive tables.';\n",
              "          element.innerHTML = '';\n",
              "          dataTable['output_type'] = 'display_data';\n",
              "          await google.colab.output.renderOutput(dataTable, element);\n",
              "          const docLink = document.createElement('div');\n",
              "          docLink.innerHTML = docLinkHtml;\n",
              "          element.appendChild(docLink);\n",
              "        }\n",
              "      </script>\n",
              "    </div>\n",
              "  </div>\n",
              "  "
            ],
            "text/plain": [
              "   Actual  Predicted\n",
              "0      20  16.884145\n",
              "1      27  33.732261\n",
              "2      69  75.357018\n",
              "3      30  26.794801\n",
              "4      62  60.491033"
            ]
          },
          "metadata": {},
          "execution_count": 59
        }
      ]
    },
    {
      "cell_type": "code",
      "source": [
        "# Line Graph\n",
        "data.plot(kind='line', figsize=(8,6), color=['R','G'] ,title ='Comaparison between Actual and Predicted Score Values')\n",
        "plt.grid(which='major', linewidth='0.5', color = 'black')\n",
        "plt.grid(which='major', linewidth='0.5', color = 'blue')\n",
        "plt.show()"
      ],
      "metadata": {
        "colab": {
          "base_uri": "https://localhost:8080/",
          "height": 390
        },
        "id": "jFC2Eu-QXMgf",
        "outputId": "868151a4-0668-4f2b-d575-309fac5c70f2"
      },
      "execution_count": 61,
      "outputs": [
        {
          "output_type": "display_data",
          "data": {
            "image/png": "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\n",
            "text/plain": [
              "<Figure size 576x432 with 1 Axes>"
            ]
          },
          "metadata": {
            "needs_background": "light"
          }
        }
      ]
    },
    {
      "cell_type": "code",
      "source": [
        "# Bar Graph\n",
        "data.plot(kind='bar',figsize=(8,6), color=['R', 'G'], title= 'Comaparison between Actual and Predicted Score Values')"
      ],
      "metadata": {
        "colab": {
          "base_uri": "https://localhost:8080/",
          "height": 404
        },
        "id": "MtNMvXE3Xpg6",
        "outputId": "e4bfe808-bd4d-4044-9dc7-f7c4e926420f"
      },
      "execution_count": 62,
      "outputs": [
        {
          "output_type": "execute_result",
          "data": {
            "text/plain": [
              "<matplotlib.axes._subplots.AxesSubplot at 0x7fca52c5a9d0>"
            ]
          },
          "metadata": {},
          "execution_count": 62
        },
        {
          "output_type": "display_data",
          "data": {
            "image/png": "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\n",
            "text/plain": [
              "<Figure size 576x432 with 1 Axes>"
            ]
          },
          "metadata": {
            "needs_background": "light"
          }
        }
      ]
    },
    {
      "cell_type": "markdown",
      "source": [
        "#Estimating training and test score"
      ],
      "metadata": {
        "id": "WqltKZ92S1I5"
      }
    },
    {
      "cell_type": "markdown",
      "source": [
        "Checking the accuracy of the model"
      ],
      "metadata": {
        "id": "m9ePWeecTYC1"
      }
    },
    {
      "cell_type": "code",
      "source": [
        "print(\"Training Score:\",regr.score(x_train,y_train))\n",
        "print(\"Test Score:\",regr.score(x_test,y_test))"
      ],
      "metadata": {
        "colab": {
          "base_uri": "https://localhost:8080/"
        },
        "id": "kd4RftPpI86a",
        "outputId": "ec568b1e-2ff8-4ff3-da15-75f62f408048"
      },
      "execution_count": 63,
      "outputs": [
        {
          "output_type": "stream",
          "name": "stdout",
          "text": [
            "Training Score: 0.9515510725211552\n",
            "Test Score: 0.9454906892105354\n"
          ]
        }
      ]
    },
    {
      "cell_type": "markdown",
      "source": [
        "#Predicting values for 9.25 hrs\n"
      ],
      "metadata": {
        "id": "vF6FkmFjUCW9"
      }
    },
    {
      "cell_type": "code",
      "source": [
        "s_9_25 = regr.predict([[9.25]])\n",
        "print('Score of student who studied for 9.25 hours a day : ', s_9_25)"
      ],
      "metadata": {
        "colab": {
          "base_uri": "https://localhost:8080/"
        },
        "id": "NRWpzQDUTlog",
        "outputId": "7bca08af-8dc2-4807-9c3b-375dd9276add"
      },
      "execution_count": 64,
      "outputs": [
        {
          "output_type": "stream",
          "name": "stdout",
          "text": [
            "Score of student who studied for 9.25 hours a day :  [93.69173249]\n"
          ]
        }
      ]
    },
    {
      "cell_type": "markdown",
      "source": [
        "#Evaluating the model"
      ],
      "metadata": {
        "id": "YMYiP3-wVKBf"
      }
    },
    {
      "cell_type": "markdown",
      "source": [
        "Here different errors have been calculated to compare the model performance and predict the accuracy."
      ],
      "metadata": {
        "id": "Qjsy6H7bVvhU"
      }
    },
    {
      "cell_type": "code",
      "source": [
        "# Importing metrics from sklearn \n",
        "from sklearn.metrics import mean_squared_error,r2_score,mean_absolute_error\n",
        "\n",
        "# To find Mean Absolute Error(mae)\n",
        "mae = (mean_absolute_error(y_test, y_pred))\n",
        "print('Mean Absolute Error : ',mae)\n",
        "\n",
        "# To find Mean Squared Error(mse)\n",
        "mse = (mean_squared_error(y_test, y_pred))\n",
        "print('Mean Squared Error : ',mse)\n",
        "\n",
        "# To find Root Mean Squared Error(rmse)\n",
        "rmse = (np.sqrt(mean_squared_error(y_test, y_pred)))\n",
        "print('Root Mean Squared Error : ',rmse)\n",
        "\n",
        "# To find coefficient of determination\n",
        "r_sq =  r2_score(y_test, y_pred)\n",
        "print('R-Square : ',r_sq)"
      ],
      "metadata": {
        "colab": {
          "base_uri": "https://localhost:8080/"
        },
        "id": "RmS9vZTBVHSG",
        "outputId": "39fda9bb-6fcc-44a3-e9a0-681b5b3b5efe"
      },
      "execution_count": 65,
      "outputs": [
        {
          "output_type": "stream",
          "name": "stdout",
          "text": [
            "Mean Absolute Error :  4.183859899002982\n",
            "Mean Squared Error :  21.598769307217456\n",
            "Root Mean Squared Error :  4.647447612100373\n",
            "R-Square :  0.9454906892105354\n"
          ]
        }
      ]
    },
    {
      "cell_type": "markdown",
      "source": [
        "##The accuracy of the model is 94.55%."
      ],
      "metadata": {
        "id": "Z7fkPIf6W7X6"
      }
    }
  ]
}
